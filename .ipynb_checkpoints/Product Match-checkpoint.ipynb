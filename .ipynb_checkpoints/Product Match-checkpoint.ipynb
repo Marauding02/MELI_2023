{
 "cells": [
  {
   "cell_type": "markdown",
   "id": "3f2e416b",
   "metadata": {},
   "source": [
    "<center>\n",
    "<h1> Prueba DS - MELI </h1>\n",
    "    <h2> Match de productos</h2>"
   ]
  },
  {
   "cell_type": "markdown",
   "id": "0a719a00",
   "metadata": {},
   "source": [
    "## Búsqueda de Productos Similares\n",
    "\n",
    "El siguiente ejercicio tiene como objetivo encontrar productos con mayor similitud a un producto específico. Para lograr esto, necesitamos el `MLA_id` del producto que nos interesa. Utilizaremos este identificador para encontrar el artículo que tenga la mayor similitud en la categoría correspondiente.\n",
    "\n",
    "### Pasos:\n",
    "\n",
    "1. **Obtén el `MLA_id` del Producto de Interés:** Identifica el producto para el cual deseas encontrar productos similares. Anota el `MLA_id` que te interese de la base objetivo.\n",
    "\n",
    "2. **Búsqueda de Similitud:** Utilizando el `MLA_id` del producto de interés, buscaremos el artículo más similar dentro de la misma categoría. Este proceso se basa en comparar características clave de los productos, como sus títulos, y encontrar aquellos que compartan patrones similares.\n",
    "\n",
    "3. **Mejora de la Experiencia del Usuario:** Este enfoque tiene como objetivo mejorar la experiencia del usuario al ofrecer opciones similares al producto que están considerando. Al mostrar productos relacionados, aumentamos las posibilidades de que encuentren lo que están buscando de manera más eficiente.\n",
    "\n",
    "En resumen, el objetivo de este ejercicio es ayudar a los usuarios a encontrar productos similares al que les interesa, mejorando su experiencia de compra y exploración en la plataforma."
   ]
  },
  {
   "cell_type": "code",
   "execution_count": 85,
   "id": "60c098c2",
   "metadata": {},
   "outputs": [],
   "source": [
    "import requests\n",
    "import pandas as pd\n",
    "import os\n",
    "import json\n",
    "import re\n",
    "import pickle\n",
    "import builtins\n",
    "from nltk.corpus import stopwords\n",
    "from nltk.stem import WordNetLemmatizer\n",
    "from nltk.tokenize import word_tokenize\n",
    "from unidecode import unidecode\n",
    "#Similitud\n",
    "from sklearn.feature_extraction.text import TfidfVectorizer"
   ]
  },
  {
   "cell_type": "code",
   "execution_count": 34,
   "id": "c4704cdc",
   "metadata": {
    "collapsed": true
   },
   "outputs": [
    {
     "data": {
      "text/plain": [
       "[{'id': 'MLA5725', 'name': 'Accesorios para Vehículos'},\n",
       " {'id': 'MLA1512', 'name': 'Agro'},\n",
       " {'id': 'MLA1403', 'name': 'Alimentos y Bebidas'},\n",
       " {'id': 'MLA1071', 'name': 'Animales y Mascotas'},\n",
       " {'id': 'MLA1367', 'name': 'Antigüedades y Colecciones'},\n",
       " {'id': 'MLA1368', 'name': 'Arte, Librería y Mercería'},\n",
       " {'id': 'MLA1743', 'name': 'Autos, Motos y Otros'},\n",
       " {'id': 'MLA1384', 'name': 'Bebés'},\n",
       " {'id': 'MLA1246', 'name': 'Belleza y Cuidado Personal'},\n",
       " {'id': 'MLA1039', 'name': 'Cámaras y Accesorios'},\n",
       " {'id': 'MLA1051', 'name': 'Celulares y Teléfonos'},\n",
       " {'id': 'MLA1648', 'name': 'Computación'},\n",
       " {'id': 'MLA1144', 'name': 'Consolas y Videojuegos'},\n",
       " {'id': 'MLA1500', 'name': 'Construcción'},\n",
       " {'id': 'MLA1276', 'name': 'Deportes y Fitness'},\n",
       " {'id': 'MLA5726', 'name': 'Electrodomésticos y Aires Ac.'},\n",
       " {'id': 'MLA1000', 'name': 'Electrónica, Audio y Video'},\n",
       " {'id': 'MLA2547', 'name': 'Entradas para Eventos'},\n",
       " {'id': 'MLA407134', 'name': 'Herramientas'},\n",
       " {'id': 'MLA1574', 'name': 'Hogar, Muebles y Jardín'},\n",
       " {'id': 'MLA1499', 'name': 'Industrias y Oficinas'},\n",
       " {'id': 'MLA1459', 'name': 'Inmuebles'},\n",
       " {'id': 'MLA1182', 'name': 'Instrumentos Musicales'},\n",
       " {'id': 'MLA3937', 'name': 'Joyas y Relojes'},\n",
       " {'id': 'MLA1132', 'name': 'Juegos y Juguetes'},\n",
       " {'id': 'MLA3025', 'name': 'Libros, Revistas y Comics'},\n",
       " {'id': 'MLA1168', 'name': 'Música, Películas y Series'},\n",
       " {'id': 'MLA1430', 'name': 'Ropa y Accesorios'},\n",
       " {'id': 'MLA409431', 'name': 'Salud y Equipamiento Médico'},\n",
       " {'id': 'MLA1540', 'name': 'Servicios'},\n",
       " {'id': 'MLA9304', 'name': 'Souvenirs, Cotillón y Fiestas'},\n",
       " {'id': 'MLA1953', 'name': 'Otras categorías'}]"
      ]
     },
     "execution_count": 34,
     "metadata": {},
     "output_type": "execute_result"
    }
   ],
   "source": [
    "#Validar categorias disponibles\n",
    "cats = requests.get('https://api.mercadolibre.com/sites/MLA/categories')\n",
    "cats.json()"
   ]
  },
  {
   "cell_type": "code",
   "execution_count": 42,
   "id": "12add99a",
   "metadata": {},
   "outputs": [],
   "source": [
    "#Funciones encargadas de generar la base sobre la cual vamos a trabajar problema de similitudes.\n",
    "\n",
    "\n",
    "#Funcion que ingresa en el item unico y extrae la foto en calidad no reducida != Thumbnail\n",
    "\n",
    "def get_image(id_sku):\n",
    "    url = f'https://api.mercadolibre.com/items/{id_sku}'\n",
    "    request = requests.get(url)\n",
    "    item = request.json()\n",
    "    \n",
    "    # Limitar a solo 1 foto, opcional más a futuro, pero es necesario un array y un loop para guardarlas\n",
    "    pictures = item.get('pictures', [])[:1]  \n",
    "    picture_url = pictures[0].get('secure_url', None) if pictures else None\n",
    "    \n",
    "    #Retorna string de la url\n",
    "    return picture_url\n",
    "\n",
    "\n",
    "\n",
    "# Funcion para limpiar y estandarizar el titutlo deL producto\n",
    "def clean_text(text):\n",
    "    #Se eliminan tildes/acentos y carpacteres especiales\n",
    "    #No se eliminan numeros con el regex\n",
    "    text = unidecode(text.lower())\n",
    "    text = re.sub(r'[^a-zA-Z0-9\\s]', '', text)\n",
    "    \n",
    "    # Tokenizacion del titulo y lemmatizacion para llevar la palabras a temrinos comunes\n",
    "    words = word_tokenize(text, language='spanish')\n",
    "    lemmatizer = WordNetLemmatizer()\n",
    "    words = [lemmatizer.lemmatize(word) for word in words]\n",
    "    \n",
    "    # Se eliminan stopwords en espanol\n",
    "    stop_words = set(stopwords.words('spanish'))\n",
    "    words = [word for word in words if word not in stop_words]\n",
    "    \n",
    "    cleaned_text = ' '.join(words)\n",
    "    return cleaned_text\n",
    "\n",
    "#Función que crea el dataframe con las variables necesarias\n",
    "#Parámetros un Category_id y el offset\n",
    "#Para temas del ejercicio se utiliza offset.\n",
    "# si a futuro es necesario buscar más de 1000 registros se debe modificar parámetro en la API CON \"search_type=scan\"\n",
    "#https://developers.mercadolibre.com.co/es_ar/items-y-busquedas\n",
    "def initial_data(cat_id,offset):\n",
    "    url = f'https://api.mercadolibre.com/sites/MLA/search?category={cat_id}&offset={offset}'\n",
    "    request = requests.get(url)\n",
    "    items = request.json()\n",
    "    filtered_items = []\n",
    "    #Itera sobre cada una de las ramas del json de donde nos importa sacar la infromación necesaria (Attributes)\n",
    "    for item in items['results']:\n",
    "        attributes = item.get('attributes', [])\n",
    "        filtered_item = {\n",
    "            'MLA_id': item['id'],\n",
    "            'title': item['title'],\n",
    "            'condition': item['condition'],\n",
    "            'permalink': item['permalink'],\n",
    "            'category_id': item['category_id'],\n",
    "            'domain_id': item['domain_id'],\n",
    "            'tags': item['tags'],\n",
    "            'price': item['price'],\n",
    "            'brand': next((attr['value_name'] for attr in attributes if attr['id'] == 'BRAND'), None),\n",
    "            'model': next((attr['value_name'] for attr in attributes if attr['id'] == 'MODEL'), None),\n",
    "            'thumbnail': item['thumbnail']\n",
    "        }\n",
    "        filtered_items.append(filtered_item)\n",
    "    \n",
    "\n",
    "    \n",
    "    df_ini = pd.DataFrame(filtered_items)\n",
    "    #aplica función de extraer la imagen a cada item del dataframe\n",
    "    df_ini['url'] = df_ini.apply(lambda row: get_image(row['MLA_id']), axis=1)\n",
    "    #aplica función de limpiar titulo de la publicacion\n",
    "    df_ini['cleaned_title'] = df_ini.apply(lambda row: clean_text(row['title']), axis=1)\n",
    "    #Resultado es un df con toda la información que se utilizará\n",
    "    return df_ini\n"
   ]
  },
  {
   "cell_type": "code",
   "execution_count": 94,
   "id": "7db4f251",
   "metadata": {},
   "outputs": [],
   "source": [
    "#Genera modelo de tfdif\n",
    "\n",
    "\n",
    "#fucnión para extraer los titulos limpios de la base objetivo funcion usada en la generacion del modelo\n",
    "def busca_titulos(dataframe):\n",
    "    return dataframe['cleaned_title'].tolist()\n",
    "\n",
    "def genera_modelo_tfdif(df):\n",
    "    #Se asegura de estar en la misma ubicación que el notebook\n",
    "    notebook_location = os.path.dirname(os.path.abspath(\"__file__\"))\n",
    "    os.chdir(notebook_location)\n",
    "    \n",
    "    #lee titulos de productos limpios y este es el inusmo del modelo\n",
    "    names = busca_titulos(df)\n",
    "    #validaremos caracteres y combinaciones hasta de 5 n-gramas\n",
    "    tfidf = TfidfVectorizer(analyzer=\"char\", ngram_range=(1, 5))\n",
    "    tfidf.fit(names)\n",
    "    \n",
    "    model_path = os.path.join(\"models\", \"names.pkl\")\n",
    "    try:\n",
    "        with builtins.open(model_path, \"wb\") as fout:\n",
    "            pickle.dump(tfidf, fout)\n",
    "        print(\"New model created and saved successfully.\")\n",
    "    except Exception as e:\n",
    "        print(f\"Error saving the model: {e}\")\n",
    "    \n",
    "    return tfidf"
   ]
  },
  {
   "cell_type": "code",
   "execution_count": 47,
   "id": "3fe4d606",
   "metadata": {},
   "outputs": [],
   "source": [
    "#Base de prueba que será el objetivo\n",
    "\n",
    "cat_id = 'MLA5725'\n",
    "offset = 500\n",
    "base_objetivo = initial_data(cat_id,offset)\n",
    "base_objetivo.head()"
   ]
  },
  {
   "cell_type": "code",
   "execution_count": 96,
   "id": "2a1c75bd",
   "metadata": {},
   "outputs": [
    {
     "data": {
      "text/html": [
       "<div>\n",
       "<style scoped>\n",
       "    .dataframe tbody tr th:only-of-type {\n",
       "        vertical-align: middle;\n",
       "    }\n",
       "\n",
       "    .dataframe tbody tr th {\n",
       "        vertical-align: top;\n",
       "    }\n",
       "\n",
       "    .dataframe thead th {\n",
       "        text-align: right;\n",
       "    }\n",
       "</style>\n",
       "<table border=\"1\" class=\"dataframe\">\n",
       "  <thead>\n",
       "    <tr style=\"text-align: right;\">\n",
       "      <th></th>\n",
       "      <th>MLA_id</th>\n",
       "      <th>title</th>\n",
       "      <th>condition</th>\n",
       "      <th>permalink</th>\n",
       "      <th>category_id</th>\n",
       "      <th>domain_id</th>\n",
       "      <th>tags</th>\n",
       "      <th>price</th>\n",
       "      <th>brand</th>\n",
       "      <th>model</th>\n",
       "      <th>thumbnail</th>\n",
       "      <th>url</th>\n",
       "      <th>cleaned_title</th>\n",
       "    </tr>\n",
       "  </thead>\n",
       "  <tbody>\n",
       "    <tr>\n",
       "      <th>4</th>\n",
       "      <td>MLA904039355</td>\n",
       "      <td>Sensor Maf Caudalimetro Ecosport Fiesta 1.4 Tdci</td>\n",
       "      <td>new</td>\n",
       "      <td>https://articulo.mercadolibre.com.ar/MLA-90403...</td>\n",
       "      <td>MLA412186</td>\n",
       "      <td>MLA-VEHICLE_MAF_SENSORS</td>\n",
       "      <td>[brand_verified, good_quality_picture, good_qu...</td>\n",
       "      <td>25611.79</td>\n",
       "      <td>UNIKAR</td>\n",
       "      <td>None</td>\n",
       "      <td>http://http2.mlstatic.com/D_846778-MLA44567101...</td>\n",
       "      <td>https://http2.mlstatic.com/D_846778-MLA4456710...</td>\n",
       "      <td>sensor maf caudalimetro ecosport fiesta 14 tdci</td>\n",
       "    </tr>\n",
       "  </tbody>\n",
       "</table>\n",
       "</div>"
      ],
      "text/plain": [
       "         MLA_id                                             title condition                                          permalink category_id                domain_id                                               tags     price   brand model                                          thumbnail                                                url                                    cleaned_title\n",
       "4  MLA904039355  Sensor Maf Caudalimetro Ecosport Fiesta 1.4 Tdci       new  https://articulo.mercadolibre.com.ar/MLA-90403...   MLA412186  MLA-VEHICLE_MAF_SENSORS  [brand_verified, good_quality_picture, good_qu...  25611.79  UNIKAR  None  http://http2.mlstatic.com/D_846778-MLA44567101...  https://http2.mlstatic.com/D_846778-MLA4456710...  sensor maf caudalimetro ecosport fiesta 14 tdci"
      ]
     },
     "execution_count": 96,
     "metadata": {},
     "output_type": "execute_result"
    }
   ],
   "source": [
    "#Objeto/producto de interés\n",
    "#pendinete generar fucnión para esto para que sea mas sencillo\n",
    "objeto_ini = base_objetivo.query(\"MLA_id=='MLA904039355'\").copy()\n",
    "objeto_ini"
   ]
  },
  {
   "cell_type": "code",
   "execution_count": 95,
   "id": "dd9e8e70",
   "metadata": {
    "scrolled": true
   },
   "outputs": [
    {
     "name": "stdout",
     "output_type": "stream",
     "text": [
      "New model created and saved successfully.\n"
     ]
    },
    {
     "data": {
      "text/html": [
       "<style>#sk-container-id-4 {color: black;background-color: white;}#sk-container-id-4 pre{padding: 0;}#sk-container-id-4 div.sk-toggleable {background-color: white;}#sk-container-id-4 label.sk-toggleable__label {cursor: pointer;display: block;width: 100%;margin-bottom: 0;padding: 0.3em;box-sizing: border-box;text-align: center;}#sk-container-id-4 label.sk-toggleable__label-arrow:before {content: \"▸\";float: left;margin-right: 0.25em;color: #696969;}#sk-container-id-4 label.sk-toggleable__label-arrow:hover:before {color: black;}#sk-container-id-4 div.sk-estimator:hover label.sk-toggleable__label-arrow:before {color: black;}#sk-container-id-4 div.sk-toggleable__content {max-height: 0;max-width: 0;overflow: hidden;text-align: left;background-color: #f0f8ff;}#sk-container-id-4 div.sk-toggleable__content pre {margin: 0.2em;color: black;border-radius: 0.25em;background-color: #f0f8ff;}#sk-container-id-4 input.sk-toggleable__control:checked~div.sk-toggleable__content {max-height: 200px;max-width: 100%;overflow: auto;}#sk-container-id-4 input.sk-toggleable__control:checked~label.sk-toggleable__label-arrow:before {content: \"▾\";}#sk-container-id-4 div.sk-estimator input.sk-toggleable__control:checked~label.sk-toggleable__label {background-color: #d4ebff;}#sk-container-id-4 div.sk-label input.sk-toggleable__control:checked~label.sk-toggleable__label {background-color: #d4ebff;}#sk-container-id-4 input.sk-hidden--visually {border: 0;clip: rect(1px 1px 1px 1px);clip: rect(1px, 1px, 1px, 1px);height: 1px;margin: -1px;overflow: hidden;padding: 0;position: absolute;width: 1px;}#sk-container-id-4 div.sk-estimator {font-family: monospace;background-color: #f0f8ff;border: 1px dotted black;border-radius: 0.25em;box-sizing: border-box;margin-bottom: 0.5em;}#sk-container-id-4 div.sk-estimator:hover {background-color: #d4ebff;}#sk-container-id-4 div.sk-parallel-item::after {content: \"\";width: 100%;border-bottom: 1px solid gray;flex-grow: 1;}#sk-container-id-4 div.sk-label:hover label.sk-toggleable__label {background-color: #d4ebff;}#sk-container-id-4 div.sk-serial::before {content: \"\";position: absolute;border-left: 1px solid gray;box-sizing: border-box;top: 0;bottom: 0;left: 50%;z-index: 0;}#sk-container-id-4 div.sk-serial {display: flex;flex-direction: column;align-items: center;background-color: white;padding-right: 0.2em;padding-left: 0.2em;position: relative;}#sk-container-id-4 div.sk-item {position: relative;z-index: 1;}#sk-container-id-4 div.sk-parallel {display: flex;align-items: stretch;justify-content: center;background-color: white;position: relative;}#sk-container-id-4 div.sk-item::before, #sk-container-id-4 div.sk-parallel-item::before {content: \"\";position: absolute;border-left: 1px solid gray;box-sizing: border-box;top: 0;bottom: 0;left: 50%;z-index: -1;}#sk-container-id-4 div.sk-parallel-item {display: flex;flex-direction: column;z-index: 1;position: relative;background-color: white;}#sk-container-id-4 div.sk-parallel-item:first-child::after {align-self: flex-end;width: 50%;}#sk-container-id-4 div.sk-parallel-item:last-child::after {align-self: flex-start;width: 50%;}#sk-container-id-4 div.sk-parallel-item:only-child::after {width: 0;}#sk-container-id-4 div.sk-dashed-wrapped {border: 1px dashed gray;margin: 0 0.4em 0.5em 0.4em;box-sizing: border-box;padding-bottom: 0.4em;background-color: white;}#sk-container-id-4 div.sk-label label {font-family: monospace;font-weight: bold;display: inline-block;line-height: 1.2em;}#sk-container-id-4 div.sk-label-container {text-align: center;}#sk-container-id-4 div.sk-container {/* jupyter's `normalize.less` sets `[hidden] { display: none; }` but bootstrap.min.css set `[hidden] { display: none !important; }` so we also need the `!important` here to be able to override the default hidden behavior on the sphinx rendered scikit-learn.org. See: https://github.com/scikit-learn/scikit-learn/issues/21755 */display: inline-block !important;position: relative;}#sk-container-id-4 div.sk-text-repr-fallback {display: none;}</style><div id=\"sk-container-id-4\" class=\"sk-top-container\"><div class=\"sk-text-repr-fallback\"><pre>TfidfVectorizer(analyzer=&#x27;char&#x27;, ngram_range=(1, 5))</pre><b>In a Jupyter environment, please rerun this cell to show the HTML representation or trust the notebook. <br />On GitHub, the HTML representation is unable to render, please try loading this page with nbviewer.org.</b></div><div class=\"sk-container\" hidden><div class=\"sk-item\"><div class=\"sk-estimator sk-toggleable\"><input class=\"sk-toggleable__control sk-hidden--visually\" id=\"sk-estimator-id-4\" type=\"checkbox\" checked><label for=\"sk-estimator-id-4\" class=\"sk-toggleable__label sk-toggleable__label-arrow\">TfidfVectorizer</label><div class=\"sk-toggleable__content\"><pre>TfidfVectorizer(analyzer=&#x27;char&#x27;, ngram_range=(1, 5))</pre></div></div></div></div></div>"
      ],
      "text/plain": [
       "TfidfVectorizer(analyzer='char', ngram_range=(1, 5))"
      ]
     },
     "execution_count": 95,
     "metadata": {},
     "output_type": "execute_result"
    }
   ],
   "source": [
    "\n",
    "genera_modelo_tfdif(base_objetivo)"
   ]
  }
 ],
 "metadata": {
  "kernelspec": {
   "display_name": "Python 3 (ipykernel)",
   "language": "python",
   "name": "python3"
  },
  "language_info": {
   "codemirror_mode": {
    "name": "ipython",
    "version": 3
   },
   "file_extension": ".py",
   "mimetype": "text/x-python",
   "name": "python",
   "nbconvert_exporter": "python",
   "pygments_lexer": "ipython3",
   "version": "3.10.9"
  }
 },
 "nbformat": 4,
 "nbformat_minor": 5
}
